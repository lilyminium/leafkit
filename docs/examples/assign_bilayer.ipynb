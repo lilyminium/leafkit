{
 "cells": [
  {
   "cell_type": "code",
   "execution_count": 1,
   "id": "4ef41e9d",
   "metadata": {
    "scrolled": true
   },
   "outputs": [
    {
     "data": {
      "application/vnd.jupyter.widget-view+json": {
       "model_id": "be29514abc0b460d81a69b116585d5c6",
       "version_major": 2,
       "version_minor": 0
      },
      "text/plain": []
     },
     "metadata": {},
     "output_type": "display_data"
    }
   ],
   "source": [
    "import MDAnalysis as mda\n",
    "import nglview as nv\n",
    "from lipyds.tests.datafiles import NEURONAL_DDAT_GRO, NEURONAL_DDAT_XTC"
   ]
  },
  {
   "cell_type": "markdown",
   "id": "b934b0b7",
   "metadata": {},
   "source": [
    "Let's create our Universe and have a look. This is a coarse-grained universe, so MDAnalysis will warn that it fails to guess masses from the bead names -- we can ignore this for this purpose."
   ]
  },
  {
   "cell_type": "code",
   "execution_count": 2,
   "id": "5855fb2c",
   "metadata": {},
   "outputs": [
    {
     "name": "stderr",
     "output_type": "stream",
     "text": [
      "/Users/lily/pydev/mdanalysis/package/MDAnalysis/topology/guessers.py:146: UserWarning: Failed to guess the mass for the following atom types: A\n",
      "  warnings.warn(\"Failed to guess the mass for the following atom types: {}\".format(atom_type))\n",
      "/Users/lily/pydev/mdanalysis/package/MDAnalysis/topology/guessers.py:146: UserWarning: Failed to guess the mass for the following atom types: D\n",
      "  warnings.warn(\"Failed to guess the mass for the following atom types: {}\".format(atom_type))\n",
      "/Users/lily/pydev/mdanalysis/package/MDAnalysis/topology/guessers.py:146: UserWarning: Failed to guess the mass for the following atom types: G\n",
      "  warnings.warn(\"Failed to guess the mass for the following atom types: {}\".format(atom_type))\n",
      "/Users/lily/pydev/mdanalysis/package/MDAnalysis/topology/guessers.py:146: UserWarning: Failed to guess the mass for the following atom types: R\n",
      "  warnings.warn(\"Failed to guess the mass for the following atom types: {}\".format(atom_type))\n",
      "/Users/lily/pydev/mdanalysis/package/MDAnalysis/topology/guessers.py:146: UserWarning: Failed to guess the mass for the following atom types: T\n",
      "  warnings.warn(\"Failed to guess the mass for the following atom types: {}\".format(atom_type))\n"
     ]
    }
   ],
   "source": [
    "u = mda.Universe(NEURONAL_DDAT_GRO, NEURONAL_DDAT_XTC)\n",
    "u.add_TopologyAttr(\"tempfactors\")"
   ]
  },
  {
   "cell_type": "markdown",
   "id": "d0b609e5",
   "metadata": {},
   "source": [
    "These data files contain protein, membrane, and solvent (water and ions). The simulations used the coarse-grained MARTINI force field. To have a quick look at the protein and membrane, I select certain common beads to each."
   ]
  },
  {
   "cell_type": "code",
   "execution_count": 3,
   "id": "6224cea0",
   "metadata": {},
   "outputs": [],
   "source": [
    "view = nv.show_mdanalysis(u)\n",
    "view.add_representation('spacefill', '.PO4 or .GL1 or .AM1 or .ROH')\n",
    "view"
   ]
  },
  {
   "cell_type": "markdown",
   "id": "2248cc7d",
   "metadata": {},
   "source": [
    "## Assigning lipids to a bilayer in a single frame"
   ]
  },
  {
   "cell_type": "code",
   "execution_count": 4,
   "id": "f414b406",
   "metadata": {},
   "outputs": [],
   "source": [
    "from lipyds.leafletfinder.leafletfinder import BilayerFinder\n",
    "from lipyds.leafletfinder.grouping import GraphMethod, SpectralClusteringMethod, GlobalZMethod"
   ]
  },
  {
   "cell_type": "markdown",
   "id": "4f767b52",
   "metadata": {},
   "source": [
    "### Graph method\n",
    "\n",
    "This method originates from the MDAnalysis core library itself. It uses `networkx`. Lipids within `cutoff` distance of each other are presumed to be in the same leaflet. Lipids that are not within `cutoff` distance from found leaflets are determined to lie outside them, likely in the midplane."
   ]
  },
  {
   "cell_type": "code",
   "execution_count": 5,
   "id": "79a3cba8",
   "metadata": {},
   "outputs": [
    {
     "data": {
      "text/plain": [
       "<Bilayer: lower=561 lipids, upper=622 lipids>"
      ]
     },
     "execution_count": 5,
     "metadata": {},
     "output_type": "execute_result"
    }
   ],
   "source": [
    "graph = GraphMethod(\n",
    "    sparse=False,\n",
    "    cutoff=10,\n",
    "    n_leaflets=2\n",
    ")\n",
    "\n",
    "finder = BilayerFinder(\n",
    "    u,\n",
    "    method=graph,\n",
    "    select_headgroups=\"name PO4 GL* AM* ROH\"\n",
    ")\n",
    "bilayer = finder.run()\n",
    "bilayer"
   ]
  },
  {
   "cell_type": "markdown",
   "id": "b392a1e4",
   "metadata": {},
   "source": [
    "Below we can visualise the found leaflets with NGLView by using the ``bfactors`` or ``tempfactors`` TopologyAttr, and colouring residues by ``bfactor``."
   ]
  },
  {
   "cell_type": "code",
   "execution_count": 6,
   "id": "02a8322e",
   "metadata": {},
   "outputs": [
    {
     "data": {
      "application/vnd.jupyter.widget-view+json": {
       "model_id": "fac96946e8004d7baa99a720984678e2",
       "version_major": 2,
       "version_minor": 0
      },
      "text/plain": [
       "NGLWidget(max_frame=100)"
      ]
     },
     "metadata": {},
     "output_type": "display_data"
    }
   ],
   "source": [
    "u.residues.atoms.tempfactors = -1\n",
    "for leaflet in bilayer:\n",
    "    leaflet.residues.atoms.tempfactors = leaflet._leaflet_index\n",
    "\n",
    "not_solvent = u.select_atoms(\"not resname PW ION\")\n",
    "\n",
    "view = nv.show_mdanalysis(not_solvent)\n",
    "view.add_representation(\"spacefill\", \"not protein\", color_scheme=\"bfactor\")\n",
    "view"
   ]
  },
  {
   "cell_type": "markdown",
   "id": "50fd110d",
   "metadata": {},
   "source": [
    "### Global Z method\n",
    "\n",
    "We can also try assigning leaflets by distance to the global Z coordinate."
   ]
  },
  {
   "cell_type": "code",
   "execution_count": 7,
   "id": "724b2995",
   "metadata": {},
   "outputs": [
    {
     "data": {
      "text/plain": [
       "<Bilayer: lower=575 lipids, upper=630 lipids>"
      ]
     },
     "execution_count": 7,
     "metadata": {},
     "output_type": "execute_result"
    }
   ],
   "source": [
    "global_z = GlobalZMethod(\n",
    "    n_leaflets=2,\n",
    "    cutoff_midplane=4,\n",
    ")\n",
    "\n",
    "global_z_finder = BilayerFinder(\n",
    "    u,\n",
    "    method=global_z,\n",
    "    select_headgroups=\"name PO4 GL* AM* ROH\"\n",
    ")\n",
    "global_z_bilayer = global_z_finder.run()\n",
    "global_z_bilayer"
   ]
  },
  {
   "cell_type": "code",
   "execution_count": 8,
   "id": "977f0d01",
   "metadata": {},
   "outputs": [
    {
     "data": {
      "application/vnd.jupyter.widget-view+json": {
       "model_id": "a635012719f54eb29e66c6bd4c1dc1bf",
       "version_major": 2,
       "version_minor": 0
      },
      "text/plain": [
       "NGLWidget(max_frame=100)"
      ]
     },
     "metadata": {},
     "output_type": "display_data"
    }
   ],
   "source": [
    "u.residues.atoms.tempfactors = -1\n",
    "for leaflet in global_z_bilayer:\n",
    "    leaflet.residues.atoms.tempfactors = leaflet._leaflet_index\n",
    "\n",
    "not_solvent = u.select_atoms(\"not resname PW ION\")\n",
    "\n",
    "cluster_view = nv.show_mdanalysis(not_solvent)\n",
    "cluster_view.add_representation(\"spacefill\", \"not protein\", color_scheme=\"bfactor\")\n",
    "cluster_view"
   ]
  },
  {
   "cell_type": "markdown",
   "id": "4faf764b",
   "metadata": {},
   "source": [
    "### Spectral clustering method"
   ]
  },
  {
   "cell_type": "code",
   "execution_count": 23,
   "id": "2f6dd283",
   "metadata": {},
   "outputs": [
    {
     "data": {
      "text/plain": [
       "<Bilayer: lower=588 lipids, upper=335 lipids>"
      ]
     },
     "execution_count": 23,
     "metadata": {},
     "output_type": "execute_result"
    }
   ],
   "source": [
    "spectral_clustering = SpectralClusteringMethod(\n",
    "    delta=10,\n",
    "    cutoff=20,\n",
    "    n_leaflets=2,\n",
    "    angle_factor=1,\n",
    "    cosine_threshold=1,\n",
    ")\n",
    "sc_finder = BilayerFinder(\n",
    "    u,\n",
    "    method=spectral_clustering,\n",
    "    select_headgroups=\"name PO4 GL* AM* ROH\"\n",
    ")\n",
    "sc_finder_bilayer = sc_finder.run()\n",
    "sc_finder_bilayer"
   ]
  },
  {
   "cell_type": "code",
   "execution_count": 24,
   "id": "d15c60bd",
   "metadata": {},
   "outputs": [
    {
     "data": {
      "application/vnd.jupyter.widget-view+json": {
       "model_id": "2dc3a9eb59fc4ee8a1faf1f79b1de1b1",
       "version_major": 2,
       "version_minor": 0
      },
      "text/plain": [
       "NGLWidget(max_frame=100)"
      ]
     },
     "metadata": {},
     "output_type": "display_data"
    }
   ],
   "source": [
    "u.residues.atoms.tempfactors = -1\n",
    "for leaflet in sc_finder_bilayer:\n",
    "    leaflet.residues.atoms.tempfactors = leaflet._leaflet_index\n",
    "\n",
    "not_solvent = u.select_atoms(\"not resname PW ION\")\n",
    "\n",
    "cluster_view = nv.show_mdanalysis(not_solvent)\n",
    "cluster_view.add_representation(\"spacefill\", \"not protein\", color_scheme=\"bfactor\")\n",
    "cluster_view"
   ]
  },
  {
   "cell_type": "markdown",
   "id": "f286ae70",
   "metadata": {},
   "source": [
    "## Interacting with leaflets"
   ]
  },
  {
   "cell_type": "code",
   "execution_count": null,
   "id": "eba52b33",
   "metadata": {},
   "outputs": [],
   "source": []
  }
 ],
 "metadata": {
  "kernelspec": {
   "display_name": "Python (lipyds-dev)",
   "language": "python",
   "name": "lipyds-dev"
  },
  "language_info": {
   "codemirror_mode": {
    "name": "ipython",
    "version": 3
   },
   "file_extension": ".py",
   "mimetype": "text/x-python",
   "name": "python",
   "nbconvert_exporter": "python",
   "pygments_lexer": "ipython3",
   "version": "3.11.6"
  },
  "toc": {
   "base_numbering": 1,
   "nav_menu": {},
   "number_sections": true,
   "sideBar": true,
   "skip_h1_title": false,
   "title_cell": "Table of Contents",
   "title_sidebar": "Contents",
   "toc_cell": false,
   "toc_position": {},
   "toc_section_display": true,
   "toc_window_display": false
  }
 },
 "nbformat": 4,
 "nbformat_minor": 5
}
